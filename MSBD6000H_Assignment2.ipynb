{
 "cells": [
  {
   "cell_type": "markdown",
   "metadata": {},
   "source": [
    "# Task 1"
   ]
  },
  {
   "cell_type": "code",
   "execution_count": 1,
   "metadata": {},
   "outputs": [],
   "source": [
    "#open the dataset, ignore errors as it cant be decoded\n",
    "with open(r'C:\\Users\\user\\Desktop\\NLP\\reviews_data.txt',encoding=\"utf-8\",errors=\"ignore\") as f:\n",
    "    data = f.read()"
   ]
  },
  {
   "cell_type": "code",
   "execution_count": 2,
   "metadata": {},
   "outputs": [],
   "source": [
    "#Try reading only 2000 characters\n",
    "data=data[0:2000]"
   ]
  },
  {
   "cell_type": "code",
   "execution_count": 3,
   "metadata": {
    "scrolled": true
   },
   "outputs": [
    {
     "name": "stdout",
     "output_type": "stream",
     "text": [
      "['oct', '12', '2009', 'nice', 'trendy', 'hotel', 'location', 'not', 'too', 'bad', 'i', 'stayed', 'in', 'this', 'hotel', 'for', 'one', 'night', 'as', 'this', 'is', 'a', 'fairly', 'new', 'place', 'some', 'of', 'the', 'taxi', 'drivers', 'did', 'not', 'know', 'where', 'it', 'was', 'and', 'or', 'did', 'not', 'want', 'to', 'drive', 'there', 'once', 'i', 'have', 'eventually', 'arrived', 'at', 'the', 'hotel', 'i', 'was', 'very', 'pleasantly', 'surprised', 'with', 'the', 'decor', 'of', 'the', 'lobby', 'ground', 'floor', 'area', 'it', 'was', 'very', 'stylish', 'and', 'modern', 'i', 'found', 'the', 'reception', 's', 'staff', 'geeting', 'me', 'with', 'aloha', 'a', 'bit', 'out', 'of', 'place', 'but', 'i', 'guess', 'they', 'are', 'briefed', 'to', 'say', 'that', 'to', 'keep', 'up', 'the']\n"
     ]
    }
   ],
   "source": [
    "#Tokenization\n",
    "from nltk.tokenize import word_tokenize  \n",
    "from nltk.tokenize import RegexpTokenizer\n",
    "tokens = data.lower()  #convert to lowercase\n",
    "tokenizer = RegexpTokenizer(r'\\w+')\n",
    "tokens = tokenizer.tokenize(tokens) #tokenize and remove punctuation\n",
    "#sample doc1 tokenized\n",
    "print(tokens[0:100])"
   ]
  },
  {
   "cell_type": "code",
   "execution_count": 4,
   "metadata": {},
   "outputs": [],
   "source": [
    "#Remove stopwords,lemmatize\n",
    "from nltk.corpus import stopwords\n",
    "import re, string\n",
    "def preprocess(list):\n",
    "    l=[]\n",
    "    for word in list:\n",
    "        if word not in set(stopwords.words(\"english\")) and len(word)>2:\n",
    "            lem = WordNetLemmatizer()\n",
    "            word=lem.lemmatize(word)\n",
    "            word=re.sub(r\"\\d+\",\"\",word)\n",
    "            word=word.strip()\n",
    "            l.append(word)\n",
    "        else:\n",
    "            pass\n",
    "    return l"
   ]
  },
  {
   "cell_type": "code",
   "execution_count": 5,
   "metadata": {},
   "outputs": [
    {
     "name": "stderr",
     "output_type": "stream",
     "text": [
      "[nltk_data] Downloading package wordnet to\n",
      "[nltk_data]     C:\\Users\\user\\AppData\\Roaming\\nltk_data...\n",
      "[nltk_data]   Package wordnet is already up-to-date!\n"
     ]
    }
   ],
   "source": [
    "import nltk\n",
    "from nltk.stem import WordNetLemmatizer\n",
    "nltk.download('wordnet')\n",
    "clean= preprocess(tokens)"
   ]
  },
  {
   "cell_type": "code",
   "execution_count": 6,
   "metadata": {},
   "outputs": [
    {
     "name": "stdout",
     "output_type": "stream",
     "text": [
      "['oct', '', 'nice', 'trendy', 'hotel', 'location', 'bad', 'stayed', 'hotel', 'one', 'night', 'fairly', 'new', 'place', 'taxi', 'driver', 'know', 'want', 'drive', 'eventually', 'arrived', 'hotel', 'pleasantly', 'surprised', 'decor', 'lobby', 'ground', 'floor', 'area', 'stylish', 'modern', 'found', 'reception', 'staff', 'geeting', 'aloha', 'bit', 'place', 'guess', 'briefed', 'say', 'keep', 'coroporate', 'image', 'starwood', 'preferred', 'guest', 'member', 'given', 'small', 'gift', 'upon', 'check', 'couple', 'fridge', 'magnet', 'gift', 'box', 'nevertheless', 'nice', 'gesture', 'room', 'nice', 'roomy', 'tea', 'coffee', 'facility', 'room', 'get', 'two', 'complimentary', 'bottle', 'water', 'plus', 'toiletry', 'bliss', 'location', 'great', 'last', 'metro', 'stop', 'need', 'take', 'taxi', 'planning', 'going', 'see', 'historic', 'site', 'beijing', 'chose', 'breakfast', 'hotel', 'really', 'tasty', 'good', 'selection', 'dish', 'couple', 'computer']\n"
     ]
    }
   ],
   "source": [
    "#sample of preprocessed data\n",
    "print(clean[0:100])"
   ]
  },
  {
   "cell_type": "code",
   "execution_count": 7,
   "metadata": {},
   "outputs": [
    {
     "name": "stderr",
     "output_type": "stream",
     "text": [
      "C:\\ProgramData\\Anaconda3\\lib\\site-packages\\ipykernel_launcher.py:18: DeprecationWarning: Call to deprecated `most_similar` (Method will be removed in 4.0.0, use self.wv.most_similar() instead).\n"
     ]
    },
    {
     "data": {
      "text/plain": [
       "[('eventually', 0.15117084980010986),\n",
       " ('store', 0.13391751050949097),\n",
       " ('staff', 0.12515752017498016),\n",
       " ('breakfast', 0.11340277642011642),\n",
       " ('recent', 0.09587140381336212)]"
      ]
     },
     "execution_count": 7,
     "metadata": {},
     "output_type": "execute_result"
    }
   ],
   "source": [
    "#Create word2vec model\n",
    "import gensim\n",
    "import multiprocessing\n",
    "from gensim import models\n",
    "from gensim.models import Word2Vec\n",
    "cores = multiprocessing.cpu_count()\n",
    "w2v_model = Word2Vec(min_count=1,\n",
    "                     window=2,\n",
    "                     size=300,\n",
    "                     sample=6e-5, \n",
    "                     alpha=0.03, \n",
    "                     min_alpha=0.0007, \n",
    "                     negative=20,\n",
    "                     workers=cores-1)\n",
    "w2v_model.build_vocab([clean], progress_per=10000)\n",
    "w2v_model.train([clean], total_examples=w2v_model.corpus_count, epochs=30, report_delay=1)\n",
    "\n",
    "#Find similar words\n",
    "w2v_model.most_similar(positive=[\"one\",\"gift\"], negative=[\"two\"],topn=5)"
   ]
  },
  {
   "cell_type": "markdown",
   "metadata": {},
   "source": [
    "# Task 2"
   ]
  },
  {
   "cell_type": "markdown",
   "metadata": {},
   "source": [
    "## K-means"
   ]
  },
  {
   "cell_type": "code",
   "execution_count": 20,
   "metadata": {},
   "outputs": [],
   "source": [
    "from nltk.cluster import KMeansClusterer\n",
    "import nltk\n",
    "input = w2v_model.wv[w2v_model.wv.vocab]\n",
    "NUM_CLUSTERS=100\n",
    "kclusterer = KMeansClusterer(NUM_CLUSTERS, distance=nltk.cluster.util.cosine_distance, repeats=25)\n",
    "assigned_clusters = kclusterer.cluster(input, assign_clusters=True)"
   ]
  },
  {
   "cell_type": "code",
   "execution_count": 30,
   "metadata": {},
   "outputs": [
    {
     "name": "stdout",
     "output_type": "stream",
     "text": [
      "Cluster id labels for inputted data\n",
      "[87 48 16  4  8 15  6  3  2 68 64 14 61 38 23 12  1 65 33 59 24 59 55 64\n",
      " 26  7  4 67 95 37 42 80 76 70 55 56 92  0 25 13 89 19 97 71  9  8 28 59\n",
      " 20 85 15  3 30 20 81 21 21 85  9 44 12 86 23 13 40 75 50 49 91 45 53 54\n",
      " 17 35  3 22 18  5 84 55 69 63 54  3 90 58 50 93 51 52 21  1 64 79 46 66\n",
      "  9 40  4 37 39 28 22 57  1 18 27 24 37 14 31 60 89 62 17 32 94 78 29 83\n",
      " 41 36 98  4 23 34 72 65 25 88 10 74 77 73 21 65 47 28 12 82 96 43  7 12\n",
      " 99 11]\n",
      "Centroids data\n",
      "[[-1.0311955e-03 -9.2596642e-04 -2.4532375e-04 ...  4.8300470e-04\n",
      "  -3.2416979e-04 -7.5922871e-04]\n",
      " [-6.0928595e-04 -5.9813145e-04 -2.3605450e-04 ...  1.1201533e-03\n",
      "   1.7116001e-04  2.5917616e-04]\n",
      " [-1.1785471e-04 -1.6723725e-04  8.0541795e-06 ... -6.2038098e-04\n",
      "   1.1530501e-03 -8.7310030e-04]\n",
      " ...\n",
      " [ 8.3821028e-04 -2.1763990e-05  2.8286141e-04 ...  1.3039298e-03\n",
      "  -1.2739573e-03 -4.4771144e-04]\n",
      " [ 2.7400901e-04 -1.3261924e-03 -1.2606913e-03 ...  1.3567494e-03\n",
      "   7.5041206e-04  1.5963963e-03]\n",
      " [ 1.4702907e-03 -1.5716562e-03 -1.0345192e-03 ... -1.0339339e-04\n",
      "   5.1968393e-04 -4.4422696e-04]]\n",
      "Score (Opposite of the value of X on the K-means objective which is Sum of distances of samples to their closest cluster center):\n",
      "-0.010928543\n",
      "Silhouette_score: \n",
      "0.0022350673\n"
     ]
    }
   ],
   "source": [
    "from sklearn import cluster\n",
    "from sklearn import metrics\n",
    "kmeans = cluster.KMeans(n_clusters=NUM_CLUSTERS)\n",
    "kmeans.fit(input)\n",
    " \n",
    "labels = kmeans.labels_\n",
    "centroids = kmeans.cluster_centers_\n",
    " \n",
    "print (\"Cluster id labels for inputted data\")\n",
    "print (labels)\n",
    "print (\"Centroids data\")\n",
    "print (centroids)\n",
    " \n",
    "print (\"Score (Opposite of the value of X on the K-means objective which is Sum of distances of samples to their closest cluster center):\")\n",
    "print (kmeans.score(input))\n",
    " \n",
    "silhouette_score = metrics.silhouette_score(input, labels, metric='euclidean')\n",
    " \n",
    "print (\"Silhouette_score: \")\n",
    "print (silhouette_score)"
   ]
  },
  {
   "cell_type": "markdown",
   "metadata": {},
   "source": [
    "## Heirachy Agglomerative Clustering"
   ]
  },
  {
   "cell_type": "code",
   "execution_count": 32,
   "metadata": {},
   "outputs": [
    {
     "name": "stderr",
     "output_type": "stream",
     "text": [
      "C:\\ProgramData\\Anaconda3\\lib\\site-packages\\ipykernel_launcher.py:4: DeprecationWarning: Call to deprecated `syn0` (Attribute will be removed in 4.0.0, use self.vectors instead).\n",
      "  after removing the cwd from sys.path.\n"
     ]
    },
    {
     "data": {
      "image/png": "[encoded data removed]",
      "text/plain": [
       "<Figure size 1800x720 with 1 Axes>"
      ]
     },
     "metadata": {
      "needs_background": "light"
     },
     "output_type": "display_data"
    }
   ],
   "source": [
    "from matplotlib import pyplot as plt\n",
    "from scipy.cluster.hierarchy import dendrogram, linkage\n",
    "\n",
    "l = linkage(w2v_model.wv.syn0, method='complete', metric='seuclidean')\n",
    "\n",
    "# calculate full dendrogram\n",
    "plt.figure(figsize=(25, 10))\n",
    "plt.title('Hierarchical Clustering Dendrogram')\n",
    "plt.ylabel('word')\n",
    "plt.xlabel('distance')\n",
    "\n",
    "dendrogram(\n",
    "    l,\n",
    "    leaf_rotation=90.,  # rotates the x axis labels\n",
    "    leaf_font_size=16.,  # font size for the x axis labels\n",
    "    orientation='left',\n",
    "    leaf_label_func=lambda v: str(w2v_model.wv.index2word[v])\n",
    ")\n",
    "plt.show()"
   ]
  },
  {
   "cell_type": "code",
   "execution_count": null,
   "metadata": {},
   "outputs": [],
   "source": []
  }
 ],
 "metadata": {
  "kernelspec": {
   "display_name": "Python 3",
   "language": "python",
   "name": "python3"
  },
  "language_info": {
   "codemirror_mode": {
    "name": "ipython",
    "version": 3
   },
   "file_extension": ".py",
   "mimetype": "text/x-python",
   "name": "python",
   "nbconvert_exporter": "python",
   "pygments_lexer": "ipython3",
   "version": "3.7.4"
  }
 },
 "nbformat": 4,
 "nbformat_minor": 2
}
